{
 "cells": [
  {
   "cell_type": "markdown",
   "metadata": {},
   "source": [
    "Import Libraries:"
   ]
  },
  {
   "cell_type": "code",
   "execution_count": 1,
   "metadata": {},
   "outputs": [],
   "source": [
    "import numpy as np\n",
    "import cv2\n",
    "from matplotlib import pyplot as plt\n",
    "import pandas as pd\n",
    "import os\n",
    "import time\n",
    "import dask.array as da\n",
    "import dask.dataframe as dd\n",
    "import dask\n",
    "from glob import glob\n",
    "import shutil"
   ]
  },
  {
   "cell_type": "markdown",
   "metadata": {},
   "source": [
    "Load all images and check that their third dimensions are all 3 (for 3 color channels):"
   ]
  },
  {
   "cell_type": "code",
   "execution_count": 2,
   "metadata": {},
   "outputs": [],
   "source": [
    "def preprocessing():\n",
    "    cwd = os.getcwd()\n",
    "    image_dir = os.path.join(cwd,'flowers')\n",
    "    all_images = []\n",
    "\n",
    "    min_x = 1000000\n",
    "    min_y = 1000000\n",
    "\n",
    "    for image_file in os.listdir(image_dir):\n",
    "        image_path = os.path.join(image_dir,image_file)\n",
    "        if os.path.isfile(image_path):\n",
    "            bgr = cv2.imread(image_path)\n",
    "            if bgr.shape[2] != 3:\n",
    "                print(\"!!! Problem: \",image_path)\n",
    "            else:\n",
    "                if bgr.shape[0] < min_x:\n",
    "                    min_x = bgr.shape[0]\n",
    "                if bgr.shape[1] < min_y:\n",
    "                    min_y = bgr.shape[1]\n",
    "                all_images.append(image_path)\n",
    "    return all_images, min_x, min_y"
   ]
  },
  {
   "cell_type": "code",
   "execution_count": 3,
   "metadata": {},
   "outputs": [],
   "source": [
    "all_images, min_x, min_y = preprocessing()"
   ]
  },
  {
   "cell_type": "code",
   "execution_count": 4,
   "metadata": {},
   "outputs": [
    {
     "name": "stdout",
     "output_type": "stream",
     "text": [
      "There are 733 images in the dataset.\n",
      "The minimum number of x pixels is 267\n",
      "The minimum number of y pixels is 336\n"
     ]
    }
   ],
   "source": [
    "print(f\"There are {len(all_images)} images in the dataset.\")\n",
    "print(f\"The minimum number of x pixels is {min_x}\")\n",
    "print(f\"The minimum number of y pixels is {min_y}\")"
   ]
  },
  {
   "cell_type": "markdown",
   "metadata": {},
   "source": [
    "Crop Images into same shape for simplicity:"
   ]
  },
  {
   "cell_type": "code",
   "execution_count": 5,
   "metadata": {},
   "outputs": [],
   "source": [
    "def crop_images(img_list,output_folder,x_dim=min_x,y_dim=min_y):\n",
    "    cropped_image_paths = []\n",
    "    output_dir = os.path.join(os.getcwd(),output_folder)\n",
    "    if os.path.exists(output_dir):\n",
    "        shutil.rmtree(output_dir)\n",
    "    os.mkdir(output_dir)\n",
    "    for img_path in img_list:\n",
    "        output_path = os.path.join(output_dir,os.path.basename(img_path))\n",
    "        original_bgr = cv2.imread(img_path)\n",
    "        #Crop the image:\n",
    "        cropped_bgr = original_bgr[0:x_dim,0:y_dim,:]\n",
    "        cv2.imwrite(output_path, cropped_bgr)\n",
    "        cropped_image_paths.append(output_path)\n",
    "    return cropped_image_paths"
   ]
  },
  {
   "cell_type": "code",
   "execution_count": 6,
   "metadata": {},
   "outputs": [],
   "source": [
    "all_cropped_images = crop_images(all_images,'cropped',min_x, min_y)"
   ]
  },
  {
   "cell_type": "markdown",
   "metadata": {},
   "source": [
    "For Loop Method:"
   ]
  },
  {
   "cell_type": "code",
   "execution_count": 7,
   "metadata": {},
   "outputs": [],
   "source": [
    "def invert_with_for_loops(img_list,output_folder):\n",
    "    output_dir = os.path.join(os.getcwd(),output_folder)\n",
    "    if os.path.exists(output_dir):\n",
    "        shutil.rmtree(output_dir)\n",
    "    os.mkdir(output_dir)\n",
    "    for img_path in img_list:\n",
    "        output_path = os.path.join(output_dir,os.path.basename(img_path))\n",
    "        original_bgr = cv2.imread(img_path)\n",
    "        new_bgr = np.empty(original_bgr.shape)\n",
    "        for i in range(original_bgr.shape[0]):\n",
    "            for j in range(original_bgr.shape[1]):\n",
    "                for k in range(original_bgr.shape[2]):\n",
    "                    new_bgr[i,j,k] = 255 - original_bgr[i, j, k]\n",
    "        cv2.imwrite(output_path, new_bgr)\n"
   ]
  },
  {
   "cell_type": "code",
   "execution_count": 8,
   "metadata": {},
   "outputs": [
    {
     "name": "stdout",
     "output_type": "stream",
     "text": [
      "0.24526286125183105\n"
     ]
    }
   ],
   "source": [
    "start_time = time.time()\n",
    "invert_with_for_loops(['./cropped/bougainvillea_00002.jpg'],'for_loop_test')\n",
    "end_time = time.time()\n",
    "duration = end_time - start_time\n",
    "print(duration)"
   ]
  },
  {
   "cell_type": "markdown",
   "metadata": {},
   "source": [
    "Vectorized Method:"
   ]
  },
  {
   "cell_type": "code",
   "execution_count": 9,
   "metadata": {},
   "outputs": [],
   "source": [
    "def invert_vectorized(img_list,output_folder):\n",
    "    output_dir = os.path.join(os.getcwd(),output_folder)\n",
    "    if os.path.exists(output_dir):\n",
    "        shutil.rmtree(output_dir)\n",
    "    os.mkdir(output_dir)\n",
    "    for img_path in img_list:\n",
    "        output_path = os.path.join(output_dir,os.path.basename(img_path))\n",
    "        original_bgr = cv2.imread(img_path)\n",
    "        new_bgr = 255 - original_bgr\n",
    "        cv2.imwrite(output_path, new_bgr)"
   ]
  },
  {
   "cell_type": "code",
   "execution_count": 10,
   "metadata": {},
   "outputs": [
    {
     "name": "stdout",
     "output_type": "stream",
     "text": [
      "0.006116390228271484\n"
     ]
    }
   ],
   "source": [
    "start_time = time.time()\n",
    "invert_vectorized(['./cropped/bougainvillea_00002.jpg'],'vectorized_test')\n",
    "end_time = time.time()\n",
    "duration = end_time - start_time\n",
    "print(duration)"
   ]
  },
  {
   "cell_type": "markdown",
   "metadata": {},
   "source": [
    "Using Dask (Vectorized and Multithreaded):"
   ]
  },
  {
   "cell_type": "code",
   "execution_count": 11,
   "metadata": {},
   "outputs": [],
   "source": [
    "@dask.delayed()\n",
    "def read_image(img_path):\n",
    "    original_bgr = cv2.imread(img_path)\n",
    "    return original_bgr"
   ]
  },
  {
   "cell_type": "code",
   "execution_count": 12,
   "metadata": {},
   "outputs": [],
   "source": [
    "#https://stackoverflow.com/questions/58651143/how-do-i-save-a-dask-array-as-a-stack-of-images\n",
    "def save_file(arr, output_dir, block_info=None):\n",
    "    #Save file to inverted-x-y.jpg, where x and y are block locations\n",
    "    for image_index in range(arr.shape[0]):\n",
    "        filename = \"inverted-\" + \"-\".join(map(str, block_info[0][\"chunk-location\"])) + \".jpg\"\n",
    "        cv2.imwrite(os.path.join(output_dir,filename), arr[image_index])\n",
    "    return arr"
   ]
  },
  {
   "cell_type": "code",
   "execution_count": 13,
   "metadata": {},
   "outputs": [],
   "source": [
    "#https://docs.dask.org/en/latest/array-creation.html#:~:text=Dask%20delayed%20lets%20us%20delay,construct%20a%20larger%20lazy%20array.\n",
    "def invert_with_dask(img_list,output_folder):\n",
    "    output_dir = os.path.join(os.getcwd(),output_folder)\n",
    "    if os.path.exists(output_dir):\n",
    "        shutil.rmtree(output_dir)\n",
    "    os.mkdir(output_dir)\n",
    "\n",
    "    lazy_images = [read_image(img_path) for img_path in img_list]\n",
    "    sample = lazy_images[0].compute()\n",
    "\n",
    "    arrays = [da.from_delayed(lazy_image,dtype=sample.dtype,shape=sample.shape) for lazy_image in lazy_images]\n",
    "    stack = da.stack(arrays, axis=0)\n",
    "    stack = 255-stack\n",
    "    stack = stack.map_blocks(save_file, output_dir, dtype=stack.dtype).compute()\n",
    "    "
   ]
  },
  {
   "cell_type": "code",
   "execution_count": 14,
   "metadata": {},
   "outputs": [
    {
     "name": "stdout",
     "output_type": "stream",
     "text": [
      "0.01562786102294922\n"
     ]
    }
   ],
   "source": [
    "start_time = time.time()\n",
    "invert_with_dask(['./cropped/bougainvillea_00002.jpg'],'dask_test')\n",
    "end_time = time.time()\n",
    "duration = end_time - start_time\n",
    "print(duration)"
   ]
  },
  {
   "cell_type": "markdown",
   "metadata": {},
   "source": [
    "Time Tests For 3 Methods Across Various Qtys of Files:"
   ]
  },
  {
   "cell_type": "code",
   "execution_count": 15,
   "metadata": {},
   "outputs": [
    {
     "name": "stdout",
     "output_type": "stream",
     "text": [
      "733\n"
     ]
    }
   ],
   "source": [
    "relative_paths = []\n",
    "for path in all_cropped_images:\n",
    "    base_path = os.path.basename(path)\n",
    "    new_path = './cropped/'+base_path\n",
    "    relative_paths.append(new_path)\n",
    "print(len(relative_paths))"
   ]
  },
  {
   "cell_type": "code",
   "execution_count": 16,
   "metadata": {},
   "outputs": [
    {
     "name": "stdout",
     "output_type": "stream",
     "text": [
      "1\n",
      "5\n",
      "10\n",
      "20\n",
      "50\n",
      "100\n",
      "150\n",
      "200\n",
      "250\n",
      "300\n",
      "350\n",
      "400\n",
      "450\n",
      "500\n",
      "550\n",
      "600\n",
      "650\n",
      "700\n",
      "733\n"
     ]
    }
   ],
   "source": [
    "time_tests = {}\n",
    "file_qtys = [1,5,10,20,50,100,150,200,250,300,350,400,450,500,550,600,650,700,733]\n",
    "for qty in file_qtys:\n",
    "    print(qty)\n",
    "    time_tests[qty] = {}\n",
    "\n",
    "    img_list = relative_paths[0:qty]\n",
    "\n",
    "    #for loop method:\n",
    "    for_loop_start_time = time.time()\n",
    "    invert_with_for_loops(img_list,'for_loop_'+str(qty))\n",
    "    for_loop_end_time = time.time()\n",
    "    for_loop_duration = for_loop_end_time - for_loop_start_time\n",
    "\n",
    "    #vectorized method:\n",
    "    vectorized_start_time = time.time()\n",
    "    invert_vectorized(img_list,'vectorized_'+str(qty))\n",
    "    vectorized_end_time = time.time()\n",
    "    vectorized_duration = vectorized_end_time - vectorized_start_time\n",
    "\n",
    "    #vectorized & multithreaded method:\n",
    "    dask_start_time = time.time()\n",
    "    invert_with_dask(img_list,'dask_'+str(qty))\n",
    "    dask_end_time = time.time()\n",
    "    dask_duration = dask_end_time - dask_start_time\n",
    "\n",
    "    time_tests[qty]['for_loop'] = for_loop_duration\n",
    "    time_tests[qty]['vectorized'] = vectorized_duration\n",
    "    time_tests[qty]['dask'] = dask_duration\n"
   ]
  },
  {
   "cell_type": "code",
   "execution_count": 17,
   "metadata": {},
   "outputs": [
    {
     "name": "stdout",
     "output_type": "stream",
     "text": [
      "{1: {'for_loop': 0.15422940254211426, 'vectorized': 0.005516529083251953, 'dask': 0.012972593307495117}, 5: {'for_loop': 0.8781390190124512, 'vectorized': 0.049181222915649414, 'dask': 0.025864839553833008}, 10: {'for_loop': 2.036237955093384, 'vectorized': 0.022150039672851562, 'dask': 0.04740595817565918}, 20: {'for_loop': 4.347660303115845, 'vectorized': 0.05985879898071289, 'dask': 0.10387372970581055}, 50: {'for_loop': 10.533126592636108, 'vectorized': 0.1533346176147461, 'dask': 0.10035467147827148}, 100: {'for_loop': 19.732045888900757, 'vectorized': 0.27532482147216797, 'dask': 0.20652055740356445}, 150: {'for_loop': 32.12099766731262, 'vectorized': 0.3935818672180176, 'dask': 0.3507199287414551}, 200: {'for_loop': 40.07962226867676, 'vectorized': 0.5059423446655273, 'dask': 0.500708818435669}, 250: {'for_loop': 50.22118258476257, 'vectorized': 0.6841247081756592, 'dask': 0.7051045894622803}, 300: {'for_loop': 66.67925524711609, 'vectorized': 0.8052647113800049, 'dask': 0.7612807750701904}, 350: {'for_loop': 63.57483410835266, 'vectorized': 0.9351673126220703, 'dask': 0.9953303337097168}, 400: {'for_loop': 73.42738699913025, 'vectorized': 1.0408518314361572, 'dask': 1.2359099388122559}, 450: {'for_loop': 87.67848014831543, 'vectorized': 1.165140151977539, 'dask': 1.382917881011963}, 500: {'for_loop': 90.04157137870789, 'vectorized': 1.3140790462493896, 'dask': 1.5203628540039062}, 550: {'for_loop': 108.77385234832764, 'vectorized': 1.4355964660644531, 'dask': 1.1703236103057861}, 600: {'for_loop': 120.88193535804749, 'vectorized': 1.978306770324707, 'dask': 1.4500961303710938}, 650: {'for_loop': 132.1438467502594, 'vectorized': 1.6405134201049805, 'dask': 1.5042312145233154}, 700: {'for_loop': 146.1888303756714, 'vectorized': 1.758737325668335, 'dask': 1.8305060863494873}, 733: {'for_loop': 143.96027326583862, 'vectorized': 1.8739094734191895, 'dask': 1.8470265865325928}}\n"
     ]
    }
   ],
   "source": [
    "print(time_tests)"
   ]
  },
  {
   "cell_type": "code",
   "execution_count": 19,
   "metadata": {},
   "outputs": [
    {
     "name": "stdout",
     "output_type": "stream",
     "text": [
      "       for_loop  vectorized      dask\n",
      "1      0.154229    0.005517  0.012973\n",
      "5      0.878139    0.049181  0.025865\n",
      "10     2.036238    0.022150  0.047406\n",
      "20     4.347660    0.059859  0.103874\n",
      "50    10.533127    0.153335  0.100355\n",
      "100   19.732046    0.275325  0.206521\n",
      "150   32.120998    0.393582  0.350720\n",
      "200   40.079622    0.505942  0.500709\n",
      "250   50.221183    0.684125  0.705105\n",
      "300   66.679255    0.805265  0.761281\n",
      "350   63.574834    0.935167  0.995330\n",
      "400   73.427387    1.040852  1.235910\n",
      "450   87.678480    1.165140  1.382918\n",
      "500   90.041571    1.314079  1.520363\n",
      "550  108.773852    1.435596  1.170324\n",
      "600  120.881935    1.978307  1.450096\n",
      "650  132.143847    1.640513  1.504231\n",
      "700  146.188830    1.758737  1.830506\n",
      "733  143.960273    1.873909  1.847027\n"
     ]
    }
   ],
   "source": [
    "df = pd.DataFrame.from_dict(time_tests,orient='index')\n",
    "print(df)"
   ]
  },
  {
   "cell_type": "code",
   "execution_count": 20,
   "metadata": {},
   "outputs": [
    {
     "data": {
      "image/png": "[encoded data removed]",
      "text/plain": [
       "<Figure size 640x480 with 1 Axes>"
      ]
     },
     "metadata": {},
     "output_type": "display_data"
    }
   ],
   "source": [
    "plt.plot(df['for_loop'],label='For Loop')\n",
    "plt.plot(df['vectorized'],label='Vectorized')\n",
    "plt.plot(df['dask'],label='Dask')\n",
    "plt.xlabel('Quantity of Image Files')\n",
    "plt.ylabel('Time to Invert Pixels (Seconds)')\n",
    "plt.title('Image Inversion Time Test')\n",
    "plt.legend()\n",
    "plt.show()"
   ]
  },
  {
   "cell_type": "code",
   "execution_count": 21,
   "metadata": {},
   "outputs": [
    {
     "data": {
      "image/png": "[encoded data removed]",
      "text/plain": [
       "<Figure size 640x480 with 1 Axes>"
      ]
     },
     "metadata": {},
     "output_type": "display_data"
    }
   ],
   "source": [
    "# plt.plot(df['for_loop'],label='For Loop')\n",
    "plt.plot(df['vectorized'],label='Vectorized')\n",
    "plt.plot(df['dask'],label='Dask')\n",
    "plt.xlabel('Quantity of Image Files')\n",
    "plt.ylabel('Time to Invert Pixels (Seconds)')\n",
    "plt.title('Image Inversion Time Test')\n",
    "plt.legend()\n",
    "plt.show()"
   ]
  },
  {
   "cell_type": "markdown",
   "metadata": {},
   "source": [
    "Let's focus only on the Dask and Vectorized Methods Now:"
   ]
  },
  {
   "cell_type": "code",
   "execution_count": 25,
   "metadata": {},
   "outputs": [
    {
     "name": "stdout",
     "output_type": "stream",
     "text": [
      "1\n",
      "733\n",
      "2\n",
      "1466\n",
      "5\n",
      "3665\n",
      "10\n",
      "7330\n",
      "20\n",
      "14660\n",
      "50\n",
      "36650\n",
      "100\n",
      "73300\n"
     ]
    },
    {
     "ename": "MemoryError",
     "evalue": "Unable to allocate 18.4 GiB for an array with shape (73300, 267, 336, 3) and data type uint8",
     "output_type": "error",
     "traceback": [
      "\u001b[1;31m---------------------------------------------------------------------------\u001b[0m",
      "\u001b[1;31mMemoryError\u001b[0m                               Traceback (most recent call last)",
      "Cell \u001b[1;32mIn[25], line 18\u001b[0m\n\u001b[0;32m     16\u001b[0m \u001b[38;5;66;03m#vectorized & multithreaded method:\u001b[39;00m\n\u001b[0;32m     17\u001b[0m dask_start_time \u001b[38;5;241m=\u001b[39m time\u001b[38;5;241m.\u001b[39mtime()\n\u001b[1;32m---> 18\u001b[0m \u001b[43minvert_with_dask\u001b[49m\u001b[43m(\u001b[49m\u001b[43mimg_list\u001b[49m\u001b[43m,\u001b[49m\u001b[38;5;124;43m'\u001b[39;49m\u001b[38;5;124;43mdask_\u001b[39;49m\u001b[38;5;124;43m'\u001b[39;49m\u001b[38;5;241;43m+\u001b[39;49m\u001b[38;5;28;43mstr\u001b[39;49m\u001b[43m(\u001b[49m\u001b[43mqty\u001b[49m\u001b[43m)\u001b[49m\u001b[43m)\u001b[49m\n\u001b[0;32m     19\u001b[0m dask_end_time \u001b[38;5;241m=\u001b[39m time\u001b[38;5;241m.\u001b[39mtime()\n\u001b[0;32m     20\u001b[0m dask_duration \u001b[38;5;241m=\u001b[39m dask_end_time \u001b[38;5;241m-\u001b[39m dask_start_time\n",
      "Cell \u001b[1;32mIn[13], line 14\u001b[0m, in \u001b[0;36minvert_with_dask\u001b[1;34m(img_list, output_folder)\u001b[0m\n\u001b[0;32m     12\u001b[0m stack \u001b[38;5;241m=\u001b[39m da\u001b[38;5;241m.\u001b[39mstack(arrays, axis\u001b[38;5;241m=\u001b[39m\u001b[38;5;241m0\u001b[39m)\n\u001b[0;32m     13\u001b[0m stack \u001b[38;5;241m=\u001b[39m \u001b[38;5;241m255\u001b[39m\u001b[38;5;241m-\u001b[39mstack\n\u001b[1;32m---> 14\u001b[0m stack \u001b[38;5;241m=\u001b[39m \u001b[43mstack\u001b[49m\u001b[38;5;241;43m.\u001b[39;49m\u001b[43mmap_blocks\u001b[49m\u001b[43m(\u001b[49m\u001b[43msave_file\u001b[49m\u001b[43m,\u001b[49m\u001b[43m \u001b[49m\u001b[43moutput_dir\u001b[49m\u001b[43m,\u001b[49m\u001b[43m \u001b[49m\u001b[43mdtype\u001b[49m\u001b[38;5;241;43m=\u001b[39;49m\u001b[43mstack\u001b[49m\u001b[38;5;241;43m.\u001b[39;49m\u001b[43mdtype\u001b[49m\u001b[43m)\u001b[49m\u001b[38;5;241;43m.\u001b[39;49m\u001b[43mcompute\u001b[49m\u001b[43m(\u001b[49m\u001b[43m)\u001b[49m\n",
      "File \u001b[1;32mc:\\Users\\russe\\OneDrive\\Desktop\\image-inversion\\image-inversion-env\\lib\\site-packages\\dask\\base.py:370\u001b[0m, in \u001b[0;36mDaskMethodsMixin.compute\u001b[1;34m(self, **kwargs)\u001b[0m\n\u001b[0;32m    346\u001b[0m \u001b[38;5;28;01mdef\u001b[39;00m\u001b[38;5;250m \u001b[39m\u001b[38;5;21mcompute\u001b[39m(\u001b[38;5;28mself\u001b[39m, \u001b[38;5;241m*\u001b[39m\u001b[38;5;241m*\u001b[39mkwargs):\n\u001b[0;32m    347\u001b[0m \u001b[38;5;250m    \u001b[39m\u001b[38;5;124;03m\"\"\"Compute this dask collection\u001b[39;00m\n\u001b[0;32m    348\u001b[0m \n\u001b[0;32m    349\u001b[0m \u001b[38;5;124;03m    This turns a lazy Dask collection into its in-memory equivalent.\u001b[39;00m\n\u001b[1;32m   (...)\u001b[0m\n\u001b[0;32m    368\u001b[0m \u001b[38;5;124;03m    dask.compute\u001b[39;00m\n\u001b[0;32m    369\u001b[0m \u001b[38;5;124;03m    \"\"\"\u001b[39;00m\n\u001b[1;32m--> 370\u001b[0m     (result,) \u001b[38;5;241m=\u001b[39m compute(\u001b[38;5;28mself\u001b[39m, traverse\u001b[38;5;241m=\u001b[39m\u001b[38;5;28;01mFalse\u001b[39;00m, \u001b[38;5;241m*\u001b[39m\u001b[38;5;241m*\u001b[39mkwargs)\n\u001b[0;32m    371\u001b[0m     \u001b[38;5;28;01mreturn\u001b[39;00m result\n",
      "File \u001b[1;32mc:\\Users\\russe\\OneDrive\\Desktop\\image-inversion\\image-inversion-env\\lib\\site-packages\\dask\\base.py:658\u001b[0m, in \u001b[0;36mcompute\u001b[1;34m(traverse, optimize_graph, scheduler, get, *args, **kwargs)\u001b[0m\n\u001b[0;32m    655\u001b[0m \u001b[38;5;28;01mwith\u001b[39;00m shorten_traceback():\n\u001b[0;32m    656\u001b[0m     results \u001b[38;5;241m=\u001b[39m schedule(dsk, keys, \u001b[38;5;241m*\u001b[39m\u001b[38;5;241m*\u001b[39mkwargs)\n\u001b[1;32m--> 658\u001b[0m \u001b[38;5;28;01mreturn\u001b[39;00m repack([f(r, \u001b[38;5;241m*\u001b[39ma) \u001b[38;5;28;01mfor\u001b[39;00m r, (f, a) \u001b[38;5;129;01min\u001b[39;00m \u001b[38;5;28mzip\u001b[39m(results, postcomputes)])\n",
      "File \u001b[1;32mc:\\Users\\russe\\OneDrive\\Desktop\\image-inversion\\image-inversion-env\\lib\\site-packages\\dask\\base.py:658\u001b[0m, in \u001b[0;36m<listcomp>\u001b[1;34m(.0)\u001b[0m\n\u001b[0;32m    655\u001b[0m \u001b[38;5;28;01mwith\u001b[39;00m shorten_traceback():\n\u001b[0;32m    656\u001b[0m     results \u001b[38;5;241m=\u001b[39m schedule(dsk, keys, \u001b[38;5;241m*\u001b[39m\u001b[38;5;241m*\u001b[39mkwargs)\n\u001b[1;32m--> 658\u001b[0m \u001b[38;5;28;01mreturn\u001b[39;00m repack([\u001b[43mf\u001b[49m\u001b[43m(\u001b[49m\u001b[43mr\u001b[49m\u001b[43m,\u001b[49m\u001b[43m \u001b[49m\u001b[38;5;241;43m*\u001b[39;49m\u001b[43ma\u001b[49m\u001b[43m)\u001b[49m \u001b[38;5;28;01mfor\u001b[39;00m r, (f, a) \u001b[38;5;129;01min\u001b[39;00m \u001b[38;5;28mzip\u001b[39m(results, postcomputes)])\n",
      "File \u001b[1;32mc:\\Users\\russe\\OneDrive\\Desktop\\image-inversion\\image-inversion-env\\lib\\site-packages\\dask\\array\\core.py:1308\u001b[0m, in \u001b[0;36mfinalize\u001b[1;34m(results)\u001b[0m\n\u001b[0;32m   1306\u001b[0m \u001b[38;5;28;01mwhile\u001b[39;00m \u001b[38;5;28misinstance\u001b[39m(results2, (\u001b[38;5;28mtuple\u001b[39m, \u001b[38;5;28mlist\u001b[39m)):\n\u001b[0;32m   1307\u001b[0m     \u001b[38;5;28;01mif\u001b[39;00m \u001b[38;5;28mlen\u001b[39m(results2) \u001b[38;5;241m>\u001b[39m \u001b[38;5;241m1\u001b[39m:\n\u001b[1;32m-> 1308\u001b[0m         \u001b[38;5;28;01mreturn\u001b[39;00m \u001b[43mconcatenate3\u001b[49m\u001b[43m(\u001b[49m\u001b[43mresults\u001b[49m\u001b[43m)\u001b[49m\n\u001b[0;32m   1309\u001b[0m     \u001b[38;5;28;01melse\u001b[39;00m:\n\u001b[0;32m   1310\u001b[0m         results2 \u001b[38;5;241m=\u001b[39m results2[\u001b[38;5;241m0\u001b[39m]\n",
      "File \u001b[1;32mc:\\Users\\russe\\OneDrive\\Desktop\\image-inversion\\image-inversion-env\\lib\\site-packages\\dask\\array\\core.py:5584\u001b[0m, in \u001b[0;36mconcatenate3\u001b[1;34m(arrays)\u001b[0m\n\u001b[0;32m   5581\u001b[0m     \u001b[38;5;28;01mexcept\u001b[39;00m \u001b[38;5;167;01mAttributeError\u001b[39;00m:\n\u001b[0;32m   5582\u001b[0m         \u001b[38;5;28;01mreturn\u001b[39;00m \u001b[38;5;28mtype\u001b[39m(x)\n\u001b[1;32m-> 5584\u001b[0m result \u001b[38;5;241m=\u001b[39m \u001b[43mnp\u001b[49m\u001b[38;5;241;43m.\u001b[39;49m\u001b[43mempty\u001b[49m\u001b[43m(\u001b[49m\u001b[43mshape\u001b[49m\u001b[38;5;241;43m=\u001b[39;49m\u001b[43mshape\u001b[49m\u001b[43m,\u001b[49m\u001b[43m \u001b[49m\u001b[43mdtype\u001b[49m\u001b[38;5;241;43m=\u001b[39;49m\u001b[43mdtype\u001b[49m\u001b[43m(\u001b[49m\u001b[43mdeepfirst\u001b[49m\u001b[43m(\u001b[49m\u001b[43marrays\u001b[49m\u001b[43m)\u001b[49m\u001b[43m)\u001b[49m\u001b[43m)\u001b[49m\n\u001b[0;32m   5586\u001b[0m \u001b[38;5;28;01mfor\u001b[39;00m idx, arr \u001b[38;5;129;01min\u001b[39;00m \u001b[38;5;28mzip\u001b[39m(\n\u001b[0;32m   5587\u001b[0m     slices_from_chunks(chunks), core\u001b[38;5;241m.\u001b[39mflatten(arrays, container\u001b[38;5;241m=\u001b[39m(\u001b[38;5;28mlist\u001b[39m, \u001b[38;5;28mtuple\u001b[39m))\n\u001b[0;32m   5588\u001b[0m ):\n\u001b[0;32m   5589\u001b[0m     \u001b[38;5;28;01mif\u001b[39;00m \u001b[38;5;28mhasattr\u001b[39m(arr, \u001b[38;5;124m\"\u001b[39m\u001b[38;5;124mndim\u001b[39m\u001b[38;5;124m\"\u001b[39m):\n",
      "\u001b[1;31mMemoryError\u001b[0m: Unable to allocate 18.4 GiB for an array with shape (73300, 267, 336, 3) and data type uint8"
     ]
    }
   ],
   "source": [
    "time_tests_2 = {}\n",
    "file_qty_multiple = [1,2,5,10,20,50,100,200,500]\n",
    "for multiple in file_qty_multiple:\n",
    "    print(multiple)\n",
    "    time_tests_2[qty] = {}\n",
    "\n",
    "    img_list = relative_paths*multiple\n",
    "    print(len(img_list))\n",
    "\n",
    "    #vectorized method:\n",
    "    vectorized_start_time = time.time()\n",
    "    invert_vectorized(img_list,'vectorized_'+str(qty))\n",
    "    vectorized_end_time = time.time()\n",
    "    vectorized_duration = vectorized_end_time - vectorized_start_time\n",
    "\n",
    "    #vectorized & multithreaded method:\n",
    "    dask_start_time = time.time()\n",
    "    invert_with_dask(img_list,'dask_'+str(qty))\n",
    "    dask_end_time = time.time()\n",
    "    dask_duration = dask_end_time - dask_start_time\n",
    "\n",
    "    time_tests_2[qty]['vectorized'] = vectorized_duration\n",
    "    time_tests_2[qty]['dask'] = dask_duration"
   ]
  },
  {
   "cell_type": "code",
   "execution_count": 26,
   "metadata": {},
   "outputs": [
    {
     "name": "stdout",
     "output_type": "stream",
     "text": [
      "{733: {}}\n"
     ]
    }
   ],
   "source": [
    "print(time_tests_2)"
   ]
  }
 ],
 "metadata": {
  "kernelspec": {
   "display_name": "image-inversion-env",
   "language": "python",
   "name": "python3"
  },
  "language_info": {
   "codemirror_mode": {
    "name": "ipython",
    "version": 3
   },
   "file_extension": ".py",
   "mimetype": "text/x-python",
   "name": "python",
   "nbconvert_exporter": "python",
   "pygments_lexer": "ipython3",
   "version": "3.10.11"
  }
 },
 "nbformat": 4,
 "nbformat_minor": 2
}
